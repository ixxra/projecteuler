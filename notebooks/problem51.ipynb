{
 "metadata": {
  "name": "",
  "signature": "sha256:4d4ce81c0f0fb51be74c2480d16e697c2cba6591e189f4c0a016026e7fed98d5"
 },
 "nbformat": 3,
 "nbformat_minor": 0,
 "worksheets": [
  {
   "cells": [
    {
     "cell_type": "markdown",
     "metadata": {},
     "source": [
      "#Prime digit replacements\n",
      "##Problem 51\n",
      "*Published on 29 August 2003 at 06:00 pm [Server Time]*\n",
      "\n",
      "By replacing the 1st digit of the 2-digit number \\*3, it turns out that six of the nine possible values: 13, 23, 43, 53, 73, and 83, are all prime.\n",
      "\n",
      "By replacing the 3rd and 4th digits of 56\\*\\*3 with the same digit, this 5-digit number is the first example having seven primes among the ten generated numbers, yielding the family: 56003, 56113, 56333, 56443, 56663, 56773, and 56993. Consequently 56003, being the first member of this family, is the smallest prime with this property.\n",
      "\n",
      "Find the smallest prime which, by replacing part of the number (not necessarily adjacent digits) with the same digit, is part of an eight prime value family."
     ]
    },
    {
     "cell_type": "code",
     "collapsed": false,
     "input": [
      "from sympy import isprime\n",
      "from time import time\n",
      "import itertools as it"
     ],
     "language": "python",
     "metadata": {},
     "outputs": [],
     "prompt_number": 38
    },
    {
     "cell_type": "code",
     "collapsed": false,
     "input": [
      "m = [10**k for k in range(5)]"
     ],
     "language": "python",
     "metadata": {},
     "outputs": [],
     "prompt_number": 29
    },
    {
     "cell_type": "code",
     "collapsed": false,
     "input": [
      "data = []\n",
      "t0 = time()\n",
      "for p in it.permutations(m):\n",
      "    #for a, b, c in it.product(range(10), range(10), range(10)):\n",
      "    for a in range(10):\n",
      "        for b in range(a, 10):\n",
      "            for c in range(b, 10):\n",
      "                s = sum(map(lambda (x, y): x * y, zip((a, b, c, 0, 0), p)))\n",
      "                if s > 9999:\n",
      "                    f = filter(isprime, [s + d * p[-1] + d * p[-2] for d in range(10)])\n",
      "                    if len(f) > 6:\n",
      "                        print a,b,c, p, s, f\n",
      "        #for i in range(10):\n",
      "        #    print sum(reduce(lambda x, y: x * y, zip((a, b, c, i, i), p)))\n",
      "t1 = time()\n",
      "\n",
      "print t1 - t0"
     ],
     "language": "python",
     "metadata": {},
     "outputs": [
      {
       "output_type": "stream",
       "stream": "stdout",
       "text": [
        "3 5 6 (1, 10000, 1000, 10, 100) 56003 [56003, 56113, 56333, 56443, 56663, 56773, 56993]\n",
        "3 5 6 (1, 10000, 1000, 100, 10) 56003 [56003, 56113, 56333, 56443, 56663, 56773, 56993]\n",
        "0.870595932007"
       ]
      },
      {
       "output_type": "stream",
       "stream": "stdout",
       "text": [
        "\n"
       ]
      }
     ],
     "prompt_number": 30
    },
    {
     "cell_type": "code",
     "collapsed": false,
     "input": [
      "m = [10**k for k in range(6)]\n",
      "t0 = time()\n",
      "for p in it.permutations(m):\n",
      "    #for a, b, c in it.product(range(10), range(10), range(10)):\n",
      "    for a in range(10):\n",
      "        for b in range(a, 10):\n",
      "            for c in range(b, 10):\n",
      "                s = sum(map(lambda (x, y): x * y, zip((a, b, c, 0, 0, 0), p)))\n",
      "            #if s > 9999:\n",
      "                f = filter(isprime, [s + d * p[-1] + d * p[-2] + d * p[-3] for d in range(10)])\n",
      "                if len(f) > 7 and f[0] > 99999:\n",
      "                    print a,b, c, p, s, f, len(f)\n",
      "t1 = time()\n",
      "\n",
      "print t1 - t0"
     ],
     "language": "python",
     "metadata": {},
     "outputs": [
      {
       "output_type": "stream",
       "stream": "stdout",
       "text": [
        "2 3 3 (10000, 1, 100, 10, 1000, 100000) 20303 [121313, 222323, 323333, 424343, 525353, 626363, 828383, 929393] 8\n",
        "2 3 3 (10000, 1, 100, 10, 100000, 1000) 20303 [121313, 222323, 323333, 424343, 525353, 626363, 828383, 929393] 8\n",
        "2 3 3 (10000, 1, 100, 1000, 10, 100000) 20303 [121313, 222323, 323333, 424343, 525353, 626363, 828383, 929393] 8\n",
        "2 3 3 (10000, 1, 100, 1000, 100000, 10) 20303 [121313, 222323, 323333, 424343, 525353, 626363, 828383, 929393] 8\n",
        "2"
       ]
      },
      {
       "output_type": "stream",
       "stream": "stdout",
       "text": [
        " 3 3 (10000, 1, 100, 100000, 10, 1000) 20303 [121313, 222323, 323333, 424343, 525353, 626363, 828383, 929393] 8\n",
        "2 3 3 (10000, 1, 100, 100000, 1000, 10) 20303 [121313, 222323, 323333, 424343, 525353, 626363, 828383, 929393] 8\n",
        "2"
       ]
      },
      {
       "output_type": "stream",
       "stream": "stdout",
       "text": [
        " 3 3 (10000, 100, 1, 10, 1000, 100000) 20303 [121313, 222323, 323333, 424343, 525353, 626363, 828383, 929393] 8\n",
        "2 3 3 (10000, 100, 1, 10, 100000, 1000) 20303 [121313, 222323, 323333, 424343, 525353, 626363, 828383, 929393] 8\n",
        "2 3 3 (10000, 100, 1, 1000, 10, 100000) 20303 [121313, 222323, 323333, 424343, 525353, 626363, 828383, 929393] 8\n",
        "2 3 3 (10000, 100, 1, 1000, 100000, 10) 20303 [121313, 222323, 323333, 424343, 525353, 626363, 828383, 929393] 8\n",
        "2"
       ]
      },
      {
       "output_type": "stream",
       "stream": "stdout",
       "text": [
        " 3 3 (10000, 100, 1, 100000, 10, 1000) 20303 [121313, 222323, 323333, 424343, 525353, 626363, 828383, 929393] 8\n",
        "2 3 3 (10000, 100, 1, 100000, 1000, 10) 20303 [121313, 222323, 323333, 424343, 525353, 626363, 828383, 929393] 8\n",
        "9.68616390228"
       ]
      },
      {
       "output_type": "stream",
       "stream": "stdout",
       "text": [
        "\n"
       ]
      }
     ],
     "prompt_number": 43
    },
    {
     "cell_type": "code",
     "collapsed": false,
     "input": [],
     "language": "python",
     "metadata": {},
     "outputs": [],
     "prompt_number": 34
    },
    {
     "cell_type": "code",
     "collapsed": false,
     "input": [],
     "language": "python",
     "metadata": {},
     "outputs": []
    }
   ],
   "metadata": {}
  }
 ]
}
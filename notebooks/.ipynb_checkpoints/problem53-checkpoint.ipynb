{
 "metadata": {
  "name": "",
  "signature": "sha256:5d65b5ad4b7244df4efb5685dba6c1e1975d10836607590ea1953081b7d4a8a4"
 },
 "nbformat": 3,
 "nbformat_minor": 0,
 "worksheets": [
  {
   "cells": [
    {
     "cell_type": "markdown",
     "metadata": {},
     "source": [
      "#Combinatoric selections\n",
      "##Problem 53\n",
      "*Published on 26 September 2003 at 06:00 pm [Server Time]*\n",
      "\n",
      "There are exactly ten ways of selecting three from five, 12345:\n",
      "\n",
      "123, 124, 125, 134, 135, 145, 234, 235, 245, and 345\n",
      "\n",
      "In combinatorics, we use the notation, $$C^5_3 = 10$$.\n",
      "\n",
      "In general,\n",
      "\n",
      "$$C^n_r = \\frac{n!}{r!(n\u2212r)!},$$\n",
      "\n",
      "where r \u2264 n, n! = n\u00d7(n\u22121)\u00d7...\u00d73\u00d72\u00d71, and 0! = 1.\n",
      "\n",
      "It is not until n = 23, that a value exceeds one-million: $$C^{23}_{10} = 1144066$$.\n",
      "\n",
      "How many, not necessarily distinct, values of  $$C^n_r,$$ for 1 \u2264 n \u2264 100, are greater than one-million?"
     ]
    },
    {
     "cell_type": "code",
     "collapsed": false,
     "input": [
      "from time import time\n",
      "from math import factorial"
     ],
     "language": "python",
     "metadata": {},
     "outputs": [],
     "prompt_number": 26
    },
    {
     "cell_type": "code",
     "collapsed": false,
     "input": [
      "def comb(n, r):\n",
      "    return factorial(n) / (factorial(r)) / factorial(n - r)"
     ],
     "language": "python",
     "metadata": {},
     "outputs": [],
     "prompt_number": 12
    },
    {
     "cell_type": "code",
     "collapsed": false,
     "input": [
      "for n in range(10):\n",
      "    print ' '.join(map(str, [comb(n, r) for r in range(n + 1)])).center(30)"
     ],
     "language": "python",
     "metadata": {},
     "outputs": [
      {
       "output_type": "stream",
       "stream": "stdout",
       "text": [
        "              1               \n",
        "             1 1              \n",
        "            1 2 1             \n",
        "           1 3 3 1            \n",
        "          1 4 6 4 1           \n",
        "        1 5 10 10 5 1         \n",
        "       1 6 15 20 15 6 1       \n",
        "     1 7 21 35 35 21 7 1      \n",
        "    1 8 28 56 70 56 28 8 1    \n",
        " 1 9 36 84 126 126 84 36 9 1  \n"
       ]
      }
     ],
     "prompt_number": 21
    },
    {
     "cell_type": "code",
     "collapsed": false,
     "input": [
      "t0 = time()\n",
      "total = 0\n",
      "\n",
      "for n in range(101):\n",
      "    for r in range(n + 1):\n",
      "        c = comb(n, r)\n",
      "        if c > 1000000:\n",
      "            total +=1\n",
      "t1 = time()\n",
      "print total\n",
      "print '**time**:', t1 - t0\n"
     ],
     "language": "python",
     "metadata": {},
     "outputs": [
      {
       "output_type": "stream",
       "stream": "stdout",
       "text": [
        "4075\n",
        "**time**: 0.0734579563141\n"
       ]
      }
     ],
     "prompt_number": 27
    }
   ],
   "metadata": {}
  }
 ]
}
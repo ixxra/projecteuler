{
 "metadata": {
  "name": "",
  "signature": "sha256:29de168623e65245fa55be91afcef920aa0a2ca42c1bd79234477bd45932b469"
 },
 "nbformat": 3,
 "nbformat_minor": 0,
 "worksheets": [
  {
   "cells": [
    {
     "cell_type": "markdown",
     "metadata": {},
     "source": [
      "#Permuted multiples\n",
      "##Problem 52\n",
      "\n",
      "*Published on 12 September 2003 at 06:00 pm [Server Time]*\n",
      "\n",
      "It can be seen that the number, 125874, and its double, 251748, contain exactly the same digits, but in a different order.\n",
      "\n",
      "Find the smallest positive integer, x, such that 2x, 3x, 4x, 5x, and 6x, contain the same digits."
     ]
    },
    {
     "cell_type": "code",
     "collapsed": false,
     "input": [
      "from time import time"
     ],
     "language": "python",
     "metadata": {},
     "outputs": [],
     "prompt_number": 21
    },
    {
     "cell_type": "code",
     "collapsed": false,
     "input": [
      "x = 125874\n",
      "print set(str(x))"
     ],
     "language": "python",
     "metadata": {},
     "outputs": [
      {
       "output_type": "stream",
       "stream": "stdout",
       "text": [
        "set(['1', '2', '5', '4', '7', '8'])\n"
       ]
      }
     ],
     "prompt_number": 22
    },
    {
     "cell_type": "code",
     "collapsed": false,
     "input": [
      "t0 = time()\n",
      "def multiples(x):\n",
      "    return [ k * x for k in (2, 3, 4, 5, 6)]\n",
      "\n",
      "def test(x):\n",
      "    s = set(str(x))\n",
      "    for n in multiples(x):\n",
      "        if set(str(n)) != s:\n",
      "            return False\n",
      "    return True\n",
      "\n",
      "for x in range(1, 1000000):\n",
      "    if test(x):\n",
      "        print x\n",
      "        break\n",
      "        \n",
      "t1 = time()\n",
      "\n",
      "print '**Time:**', t1 - t0"
     ],
     "language": "python",
     "metadata": {},
     "outputs": [
      {
       "output_type": "stream",
       "stream": "stdout",
       "text": [
        "142857\n",
        "**Time:** 0.55220079422\n"
       ]
      }
     ],
     "prompt_number": 25
    },
    {
     "cell_type": "code",
     "collapsed": false,
     "input": [],
     "language": "python",
     "metadata": {},
     "outputs": []
    }
   ],
   "metadata": {}
  }
 ]
}
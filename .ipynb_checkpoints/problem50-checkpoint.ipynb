{
 "metadata": {
  "name": "",
  "signature": "sha256:2a43a18e18da234295ff79fb6fd31e8d463f67085121b770f57676bbf8cc653c"
 },
 "nbformat": 3,
 "nbformat_minor": 0,
 "worksheets": [
  {
   "cells": [
    {
     "cell_type": "markdown",
     "metadata": {},
     "source": [
      "#Consecutive prime sum\n",
      "##Problem 50\n",
      "\n",
      "*Published on 15 August 2003 at 06:00 pm [Server Time]*\n",
      "\n",
      "The prime 41, can be written as the sum of six consecutive primes:\n",
      "\n",
      "41 = 2 + 3 + 5 + 7 + 11 + 13\n",
      "This is the longest sum of consecutive primes that adds to a prime below one-hundred.\n",
      "\n",
      "The longest sum of consecutive primes below one-thousand that adds to a prime, contains 21 terms, and is equal to 953.\n",
      "\n",
      "Which prime, below one-million, can be written as the sum of the most consecutive primes?"
     ]
    },
    {
     "cell_type": "code",
     "collapsed": false,
     "input": [
      "from sympy import isprime\n",
      "from time import time"
     ],
     "language": "python",
     "metadata": {},
     "outputs": [],
     "prompt_number": 7
    },
    {
     "cell_type": "code",
     "collapsed": false,
     "input": [
      "t0 = time()\n",
      "primes = [p for p in xrange(3, 1000000, 2) if isprime(p)]\n",
      "primes.insert(0, 2)\n",
      "\n",
      "count = 21\n",
      "big_prime = -1\n",
      "\n",
      "for k in xrange(count, len(primes), 2):\n",
      "    ss = primes[:k+1]\n",
      "    s = sum(ss)\n",
      "    l = len(ss)\n",
      "    \n",
      "    if s > 1000000:\n",
      "        break\n",
      "    \n",
      "    if s in primes and l > count:\n",
      "        count = l\n",
      "        big_prime = s\n",
      "        \n",
      "if count % 2 == 0:\n",
      "    count += 1\n",
      "    \n",
      "\n",
      "for i in xrange(3, len(primes) - count, 2):\n",
      "    for k in xrange(i + count - 1, len(primes) - count, 2):\n",
      "        ss = primes[i:k+1]\n",
      "        s = sum(ss)\n",
      "        l = len(ss)\n",
      "        \n",
      "        if s > 1000000:\n",
      "            break\n",
      "            \n",
      "        if s in primes and l > count:\n",
      "            count = l\n",
      "            big_prime = s\n",
      "\n",
      "\n",
      "print big_prime, l\n",
      "t1 = time()\n",
      "\n",
      "print t1 - t0"
     ],
     "language": "python",
     "metadata": {},
     "outputs": [
      {
       "output_type": "stream",
       "stream": "stdout",
       "text": [
        "997651 543\n",
        "5.71019983292\n"
       ]
      }
     ],
     "prompt_number": 12
    }
   ],
   "metadata": {}
  }
 ]
}